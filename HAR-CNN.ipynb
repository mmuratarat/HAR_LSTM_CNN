{
 "cells": [
  {
   "cell_type": "markdown",
   "metadata": {},
   "source": [
    "# Analyzing Human Activity Recognition (HAR) dataset"
   ]
  },
  {
   "cell_type": "markdown",
   "metadata": {},
   "source": [
    "Data set can be found on [UCI Machine Learning Repository](https://archive.ics.uci.edu/ml/datasets/human+activity+recognition+using+smartphones)\n",
    "\n",
    "The dataset contains the raw time-series data, as well as a pre-processed one with 561 engineered features.\n",
    "\n",
    "There are 6 classes of activities where each observation belong to: LAYING, STANDING, SITTING, WALKING_DOWNSTAIRS, WALKING_UPSTAIRS, WALKING.\n",
    "\n",
    "\n",
    "The data consists of 128 times steps for each observations and each time steps are defined by 9 features. There are 9 channels in this case, which include 3 different acceleration measurements for each 3 coordinate axes.\n"
   ]
  },
  {
   "cell_type": "code",
   "execution_count": 1,
   "metadata": {},
   "outputs": [
    {
     "name": "stderr",
     "output_type": "stream",
     "text": [
      "/anaconda3/lib/python3.6/site-packages/h5py/__init__.py:36: FutureWarning: Conversion of the second argument of issubdtype from `float` to `np.floating` is deprecated. In future, it will be treated as `np.float64 == np.dtype(float).type`.\n",
      "  from ._conv import register_converters as _register_converters\n"
     ]
    }
   ],
   "source": [
    "import numpy as np\n",
    "import tensorflow as tf\n",
    "from sklearn.model_selection import train_test_split\n",
    "import matplotlib.pyplot as plt\n",
    "%matplotlib inline\n",
    "\n",
    "from utils.utilities import *\n",
    "\n",
    "#Ignore the warnings\n",
    "import warnings\n",
    "warnings.filterwarnings(\"ignore\")\n",
    "\n",
    "import os\n",
    "#Defaults to 0, so all logs are shown. Set TF_CPP_MIN_LOG_LEVEL to 1 to filter out INFO logs, 2 to additionall filter out WARNING, 3 to additionally filter out ERROR.\n",
    "os.environ['TF_CPP_MIN_LOG_LEVEL'] = '2'"
   ]
  },
  {
   "cell_type": "code",
   "execution_count": 2,
   "metadata": {},
   "outputs": [],
   "source": [
    "xTrain, yTrain, list_channels_train = reading_data(data_path=\"./data/\", split=\"train\") # train\n",
    "xTest, yTest, list_channels_test = reading_data(data_path=\"./data/\", split=\"test\") # train"
   ]
  },
  {
   "cell_type": "code",
   "execution_count": 3,
   "metadata": {},
   "outputs": [],
   "source": [
    "xTrain, xTest = standardize(xTrain, xTest)"
   ]
  },
  {
   "cell_type": "code",
   "execution_count": 4,
   "metadata": {},
   "outputs": [],
   "source": [
    "Xtrain, Xval, yTrain, yval = train_test_split(xTrain, yTrain, test_size=0.33, random_state=42)"
   ]
  },
  {
   "cell_type": "code",
   "execution_count": 5,
   "metadata": {},
   "outputs": [],
   "source": [
    "yTrain = one_hot(yTrain, num_classes = 6)\n",
    "yval = one_hot(yval, num_classes = 6)\n",
    "yTest = one_hot(yTest, num_classes = 6)"
   ]
  },
  {
   "cell_type": "code",
   "execution_count": 6,
   "metadata": {},
   "outputs": [
    {
     "name": "stdout",
     "output_type": "stream",
     "text": [
      "(4925, 128, 9)\n",
      "(2427, 128, 9)\n",
      "(4925, 6)\n",
      "(2427, 6)\n",
      "(2947, 128, 9)\n",
      "(2947, 6)\n"
     ]
    }
   ],
   "source": [
    "print(Xtrain.shape)\n",
    "print(Xval.shape)\n",
    "print(yTrain.shape)\n",
    "print(yval.shape)\n",
    "print(xTest.shape)\n",
    "print( yTest.shape)"
   ]
  },
  {
   "cell_type": "code",
   "execution_count": 7,
   "metadata": {},
   "outputs": [],
   "source": [
    "#Data parameters\n",
    "num_classes = 6\n",
    "num_channels = 9\n",
    "seq_len = 128  \n",
    "learning_rate = 0.0001\n",
    "\n",
    "graph = tf.Graph()\n",
    "with graph.as_default():\n",
    "    #Define the placeholders\n",
    "    with tf.name_scope(\"graph_inputs\"):\n",
    "        X = tf.placeholder(dtype = tf.float32, shape = [None, seq_len, num_channels], name = \"input_placeholder\")\n",
    "        y = tf.placeholder(dtype = tf.float32, shape = [None, num_classes], name = \"output_placeholder\")\n",
    "        keep_prob_ = tf.placeholder_with_default(1.0, shape=(), name =\"dropout_rate\")\n",
    "    \n",
    "    #Define the model\n",
    "    with tf.name_scope(\"CNN\"):\n",
    "        with tf.name_scope(\"Model\"):\n",
    "            #Layer 1\n",
    "            conv1 = tf.layers.conv1d(inputs=X, filters = 18, kernel_size=2, strides = 1, padding = \"SAME\", activation=tf.nn.relu)\n",
    "            #From (batch_size, 128, 9) to (batch_size, 128, 18)\n",
    "            MaxPool1 = tf.layers.max_pooling1d(inputs=conv1, pool_size=2, strides=2, padding='same')\n",
    "            #From (batch_size, 128, 18) to (batch_size, 64, 18)\n",
    "            \n",
    "            #Layer 2\n",
    "            conv2 = tf.layers.conv1d(inputs=MaxPool1, filters=36, kernel_size=2, strides=1, padding='same', activation = tf.nn.relu)\n",
    "            #From (batch_size, 64, 18) to (batch_size, 64, 36)\n",
    "            MaxPool2 = tf.layers.max_pooling1d(inputs=conv2, pool_size=2, strides=2, padding='same')\n",
    "            #From (batch_size, 64, 36) to (batch_size, 32, 36)\n",
    "            \n",
    "            #Layer 3\n",
    "            conv3 = tf.layers.conv1d(inputs=MaxPool2, filters=72, kernel_size=2, strides=1, padding='same', activation = tf.nn.relu)\n",
    "            #From (batch_size, 32, 36) to (batch_size, 32, 72)\n",
    "            MaxPool3 = tf.layers.max_pooling1d(inputs=conv3, pool_size=2, strides=2, padding='same')\n",
    "            #From (batch_size, 32, 72) to (batch_size, 16, 72)\n",
    "            \n",
    "            #Layer 3\n",
    "            conv4 = tf.layers.conv1d(inputs=MaxPool3, filters=144, kernel_size=2, strides=1, padding='same', activation = tf.nn.relu)\n",
    "            #From (batch_size, 16, 72) to (batch_size, 16, 144)\n",
    "            MaxPool4 = tf.layers.max_pooling1d(inputs=conv4, pool_size=2, strides=2, padding='same')\n",
    "            #From (batch_size, 16, 144) to (batch_size, 8, 144)\n",
    "            \n",
    "            # Flatten and add dropout\n",
    "            flat = tf.reshape(MaxPool4, (-1, 8*144))\n",
    "            flat = tf.nn.dropout(flat, keep_prob = keep_prob_)\n",
    "            \n",
    "        with tf.variable_scope('Logits'):\n",
    "            # Reduce the dimensions to num_classes\n",
    "            logits = tf.layers.dense(flat, num_classes)#[Batch_size, num_classes]\n",
    "            \n",
    "        with tf.name_scope('Predictions'):\n",
    "            predictions = tf.nn.softmax(logits, name=\"predictions\")  #[Batch_size, num_classes]\n",
    "                \n",
    "        with tf.name_scope('Loss'):\n",
    "            xentropy = tf.nn.softmax_cross_entropy_with_logits_v2(logits=logits, labels=y)\n",
    "            loss = tf.reduce_mean(xentropy)\n",
    "            \n",
    "        with tf.name_scope('Train'):\n",
    "            optimizer = tf.train.AdamOptimizer(learning_rate=learning_rate)\n",
    "            trainer = optimizer.minimize(loss)\n",
    "            \n",
    "        with tf.name_scope(\"Accuracy\"):\n",
    "            accuracy, accuracy_update_op  = tf.metrics.accuracy(labels = tf.argmax(y, axis = 1), predictions = tf.argmax(predictions, axis = 1), name = 'accuracy')\n",
    "            running_vars_accuracy = tf.get_collection(tf.GraphKeys.LOCAL_VARIABLES, scope=\"CNN/Accuracy\")\n",
    "            \n",
    "        with tf.name_scope(\"Saver\"):\n",
    "            saver = tf.train.Saver(var_list=tf.trainable_variables()) \n",
    "    \n",
    "        with tf.name_scope(\"init\"):\n",
    "            global_variables_init = tf.global_variables_initializer()\n",
    "            running_vars_initializer_accuracy = tf.variables_initializer(var_list=running_vars_accuracy)"
   ]
  },
  {
   "cell_type": "code",
   "execution_count": 8,
   "metadata": {},
   "outputs": [
    {
     "name": "stdout",
     "output_type": "stream",
     "text": [
      "Epoch: 0- Training Loss: 1.625833,  Training Accuracy: 25.69%,  Validation Loss: 1.462631,  Validation Accuracy: 38.15%,\n",
      "Epoch: 1- Training Loss: 1.384548,  Training Accuracy: 36.18%,  Validation Loss: 1.253766,  Validation Accuracy: 42.23%,\n",
      "Epoch: 2- Training Loss: 1.226623,  Training Accuracy: 43.45%,  Validation Loss: 1.137076,  Validation Accuracy: 59.62%,\n",
      "Epoch: 3- Training Loss: 1.119240,  Training Accuracy: 60.00%,  Validation Loss: 1.025625,  Validation Accuracy: 74.70%,\n",
      "Epoch: 4- Training Loss: 1.001872,  Training Accuracy: 69.24%,  Validation Loss: 0.885570,  Validation Accuracy: 79.60%,\n",
      "Epoch: 5- Training Loss: 0.845920,  Training Accuracy: 74.09%,  Validation Loss: 0.708310,  Validation Accuracy: 83.97%,\n",
      "Epoch: 6- Training Loss: 0.658197,  Training Accuracy: 79.63%,  Validation Loss: 0.537640,  Validation Accuracy: 87.68%,\n",
      "Epoch: 7- Training Loss: 0.526275,  Training Accuracy: 82.36%,  Validation Loss: 0.414942,  Validation Accuracy: 90.52%,\n",
      "Epoch: 8- Training Loss: 0.415533,  Training Accuracy: 87.15%,  Validation Loss: 0.332498,  Validation Accuracy: 91.51%,\n",
      "Epoch: 9- Training Loss: 0.349676,  Training Accuracy: 88.06%,  Validation Loss: 0.276401,  Validation Accuracy: 92.21%,\n",
      "Epoch: 10- Training Loss: 0.292581,  Training Accuracy: 90.01%,  Validation Loss: 0.239113,  Validation Accuracy: 92.79%,\n",
      "Epoch: 11- Training Loss: 0.260502,  Training Accuracy: 91.25%,  Validation Loss: 0.213756,  Validation Accuracy: 93.12%,\n",
      "Epoch: 12- Training Loss: 0.237851,  Training Accuracy: 91.39%,  Validation Loss: 0.193409,  Validation Accuracy: 93.53%,\n",
      "Epoch: 13- Training Loss: 0.215822,  Training Accuracy: 92.16%,  Validation Loss: 0.180098,  Validation Accuracy: 93.61%,\n",
      "Epoch: 14- Training Loss: 0.198481,  Training Accuracy: 92.67%,  Validation Loss: 0.166240,  Validation Accuracy: 93.94%,\n",
      "Epoch: 15- Training Loss: 0.184520,  Training Accuracy: 93.08%,  Validation Loss: 0.157792,  Validation Accuracy: 93.98%,\n",
      "Epoch: 16- Training Loss: 0.173285,  Training Accuracy: 93.56%,  Validation Loss: 0.148863,  Validation Accuracy: 94.07%,\n",
      "Epoch: 17- Training Loss: 0.168737,  Training Accuracy: 93.42%,  Validation Loss: 0.142303,  Validation Accuracy: 94.15%,\n",
      "Epoch: 18- Training Loss: 0.161287,  Training Accuracy: 93.79%,  Validation Loss: 0.138175,  Validation Accuracy: 94.27%,\n",
      "Epoch: 19- Training Loss: 0.156390,  Training Accuracy: 93.58%,  Validation Loss: 0.135515,  Validation Accuracy: 94.44%,\n",
      "Epoch: 20- Training Loss: 0.146442,  Training Accuracy: 94.09%,  Validation Loss: 0.130308,  Validation Accuracy: 94.44%,\n",
      "Epoch: 21- Training Loss: 0.144988,  Training Accuracy: 93.77%,  Validation Loss: 0.127503,  Validation Accuracy: 94.60%,\n",
      "Epoch: 22- Training Loss: 0.140316,  Training Accuracy: 94.15%,  Validation Loss: 0.124940,  Validation Accuracy: 94.68%,\n",
      "Epoch: 23- Training Loss: 0.136342,  Training Accuracy: 94.46%,  Validation Loss: 0.122503,  Validation Accuracy: 94.73%,\n",
      "Epoch: 24- Training Loss: 0.134901,  Training Accuracy: 94.15%,  Validation Loss: 0.120394,  Validation Accuracy: 94.89%,\n",
      "Epoch: 25- Training Loss: 0.130900,  Training Accuracy: 94.72%,  Validation Loss: 0.118255,  Validation Accuracy: 94.89%,\n",
      "Epoch: 26- Training Loss: 0.132450,  Training Accuracy: 94.50%,  Validation Loss: 0.116992,  Validation Accuracy: 94.73%,\n",
      "Epoch: 27- Training Loss: 0.125580,  Training Accuracy: 94.70%,  Validation Loss: 0.116674,  Validation Accuracy: 94.81%,\n",
      "Epoch: 28- Training Loss: 0.127304,  Training Accuracy: 94.64%,  Validation Loss: 0.115489,  Validation Accuracy: 94.81%,\n",
      "Epoch: 29- Training Loss: 0.125459,  Training Accuracy: 94.72%,  Validation Loss: 0.113610,  Validation Accuracy: 94.81%,\n",
      "Epoch: 30- Training Loss: 0.122664,  Training Accuracy: 94.52%,  Validation Loss: 0.113509,  Validation Accuracy: 94.85%,\n",
      "Epoch: 31- Training Loss: 0.120281,  Training Accuracy: 94.80%,  Validation Loss: 0.111384,  Validation Accuracy: 94.93%,\n",
      "Epoch: 32- Training Loss: 0.119079,  Training Accuracy: 94.80%,  Validation Loss: 0.110280,  Validation Accuracy: 94.89%,\n",
      "Epoch: 33- Training Loss: 0.118528,  Training Accuracy: 94.76%,  Validation Loss: 0.109199,  Validation Accuracy: 95.18%,\n",
      "Epoch: 34- Training Loss: 0.117373,  Training Accuracy: 94.80%,  Validation Loss: 0.108743,  Validation Accuracy: 95.22%,\n",
      "Epoch: 35- Training Loss: 0.118255,  Training Accuracy: 94.76%,  Validation Loss: 0.107924,  Validation Accuracy: 95.26%,\n",
      "Epoch: 36- Training Loss: 0.119030,  Training Accuracy: 94.72%,  Validation Loss: 0.107534,  Validation Accuracy: 95.06%,\n",
      "Epoch: 37- Training Loss: 0.113010,  Training Accuracy: 95.01%,  Validation Loss: 0.106801,  Validation Accuracy: 95.14%,\n",
      "Epoch: 38- Training Loss: 0.114760,  Training Accuracy: 95.21%,  Validation Loss: 0.106255,  Validation Accuracy: 95.18%,\n",
      "Epoch: 39- Training Loss: 0.114648,  Training Accuracy: 94.70%,  Validation Loss: 0.106578,  Validation Accuracy: 95.14%,\n",
      "Epoch: 40- Training Loss: 0.109700,  Training Accuracy: 95.11%,  Validation Loss: 0.104831,  Validation Accuracy: 95.22%,\n",
      "Epoch: 41- Training Loss: 0.109018,  Training Accuracy: 95.07%,  Validation Loss: 0.104933,  Validation Accuracy: 95.06%,\n",
      "Epoch: 42- Training Loss: 0.111908,  Training Accuracy: 94.82%,  Validation Loss: 0.103974,  Validation Accuracy: 95.30%,\n",
      "Epoch: 43- Training Loss: 0.109425,  Training Accuracy: 94.94%,  Validation Loss: 0.104842,  Validation Accuracy: 95.10%,\n",
      "Epoch: 44- Training Loss: 0.109172,  Training Accuracy: 94.84%,  Validation Loss: 0.104051,  Validation Accuracy: 95.10%,\n",
      "Epoch: 45- Training Loss: 0.109731,  Training Accuracy: 95.05%,  Validation Loss: 0.102710,  Validation Accuracy: 95.26%,\n",
      "Epoch: 46- Training Loss: 0.105316,  Training Accuracy: 95.33%,  Validation Loss: 0.102386,  Validation Accuracy: 95.39%,\n",
      "Epoch: 47- Training Loss: 0.106503,  Training Accuracy: 95.25%,  Validation Loss: 0.102469,  Validation Accuracy: 95.10%,\n",
      "Epoch: 48- Training Loss: 0.106083,  Training Accuracy: 95.29%,  Validation Loss: 0.101825,  Validation Accuracy: 95.26%,\n",
      "Epoch: 49- Training Loss: 0.106176,  Training Accuracy: 95.31%,  Validation Loss: 0.101253,  Validation Accuracy: 95.47%,\n",
      "Epoch: 50- Training Loss: 0.105904,  Training Accuracy: 95.27%,  Validation Loss: 0.100945,  Validation Accuracy: 95.39%,\n",
      "Epoch: 51- Training Loss: 0.104784,  Training Accuracy: 95.51%,  Validation Loss: 0.100594,  Validation Accuracy: 95.43%,\n",
      "Epoch: 52- Training Loss: 0.106122,  Training Accuracy: 95.33%,  Validation Loss: 0.100670,  Validation Accuracy: 95.26%,\n",
      "Epoch: 53- Training Loss: 0.103079,  Training Accuracy: 95.27%,  Validation Loss: 0.100484,  Validation Accuracy: 95.43%,\n",
      "Epoch: 54- Training Loss: 0.101615,  Training Accuracy: 95.31%,  Validation Loss: 0.099770,  Validation Accuracy: 95.55%,\n",
      "Epoch: 55- Training Loss: 0.104367,  Training Accuracy: 95.35%,  Validation Loss: 0.099775,  Validation Accuracy: 95.43%,\n",
      "Epoch: 56- Training Loss: 0.103267,  Training Accuracy: 95.39%,  Validation Loss: 0.099935,  Validation Accuracy: 95.34%,\n",
      "Epoch: 57- Training Loss: 0.101800,  Training Accuracy: 95.57%,  Validation Loss: 0.099099,  Validation Accuracy: 95.51%,\n",
      "Epoch: 58- Training Loss: 0.100125,  Training Accuracy: 95.35%,  Validation Loss: 0.098646,  Validation Accuracy: 95.51%,\n",
      "Epoch: 59- Training Loss: 0.101481,  Training Accuracy: 95.35%,  Validation Loss: 0.098162,  Validation Accuracy: 95.67%,\n",
      "Epoch: 60- Training Loss: 0.101536,  Training Accuracy: 95.19%,  Validation Loss: 0.098291,  Validation Accuracy: 95.51%,\n",
      "Epoch: 61- Training Loss: 0.098737,  Training Accuracy: 95.41%,  Validation Loss: 0.098489,  Validation Accuracy: 95.47%,\n",
      "Epoch: 62- Training Loss: 0.098011,  Training Accuracy: 95.51%,  Validation Loss: 0.097593,  Validation Accuracy: 95.47%,\n",
      "Epoch: 63- Training Loss: 0.098119,  Training Accuracy: 95.41%,  Validation Loss: 0.097364,  Validation Accuracy: 95.47%,\n",
      "Epoch: 64- Training Loss: 0.097517,  Training Accuracy: 95.59%,  Validation Loss: 0.097365,  Validation Accuracy: 95.47%,\n",
      "Epoch: 65- Training Loss: 0.097454,  Training Accuracy: 95.57%,  Validation Loss: 0.097097,  Validation Accuracy: 95.63%,\n",
      "Epoch: 66- Training Loss: 0.095256,  Training Accuracy: 95.65%,  Validation Loss: 0.097084,  Validation Accuracy: 95.76%,\n",
      "Epoch: 67- Training Loss: 0.097544,  Training Accuracy: 95.49%,  Validation Loss: 0.096622,  Validation Accuracy: 95.63%,\n",
      "Epoch: 68- Training Loss: 0.095710,  Training Accuracy: 95.53%,  Validation Loss: 0.096045,  Validation Accuracy: 95.80%,\n",
      "Epoch: 69- Training Loss: 0.095840,  Training Accuracy: 95.61%,  Validation Loss: 0.095775,  Validation Accuracy: 95.67%,\n",
      "Epoch: 70- Training Loss: 0.095622,  Training Accuracy: 95.70%,  Validation Loss: 0.096926,  Validation Accuracy: 95.63%,\n",
      "Epoch: 71- Training Loss: 0.095691,  Training Accuracy: 95.59%,  Validation Loss: 0.095512,  Validation Accuracy: 95.67%,\n",
      "Epoch: 72- Training Loss: 0.094441,  Training Accuracy: 95.55%,  Validation Loss: 0.094865,  Validation Accuracy: 95.67%,\n",
      "Epoch: 73- Training Loss: 0.092353,  Training Accuracy: 95.57%,  Validation Loss: 0.094588,  Validation Accuracy: 95.76%,\n",
      "Epoch: 74- Training Loss: 0.093763,  Training Accuracy: 95.70%,  Validation Loss: 0.094632,  Validation Accuracy: 95.76%,\n",
      "Epoch: 75- Training Loss: 0.092852,  Training Accuracy: 95.63%,  Validation Loss: 0.094250,  Validation Accuracy: 95.76%,\n",
      "Epoch: 76- Training Loss: 0.090890,  Training Accuracy: 95.70%,  Validation Loss: 0.094106,  Validation Accuracy: 95.67%,\n",
      "Epoch: 77- Training Loss: 0.091155,  Training Accuracy: 95.72%,  Validation Loss: 0.094106,  Validation Accuracy: 95.67%,\n",
      "Epoch: 78- Training Loss: 0.092138,  Training Accuracy: 95.88%,  Validation Loss: 0.093466,  Validation Accuracy: 95.76%,\n",
      "Epoch: 79- Training Loss: 0.091520,  Training Accuracy: 95.59%,  Validation Loss: 0.093323,  Validation Accuracy: 95.71%,\n",
      "Epoch: 80- Training Loss: 0.091723,  Training Accuracy: 95.74%,  Validation Loss: 0.092793,  Validation Accuracy: 95.80%,\n",
      "Epoch: 81- Training Loss: 0.090298,  Training Accuracy: 95.88%,  Validation Loss: 0.092459,  Validation Accuracy: 95.92%,\n",
      "Epoch: 82- Training Loss: 0.089208,  Training Accuracy: 95.88%,  Validation Loss: 0.092386,  Validation Accuracy: 95.71%,\n",
      "Epoch: 83- Training Loss: 0.089645,  Training Accuracy: 95.82%,  Validation Loss: 0.091959,  Validation Accuracy: 95.88%,\n",
      "Epoch: 84- Training Loss: 0.089974,  Training Accuracy: 95.80%,  Validation Loss: 0.091645,  Validation Accuracy: 95.80%,\n",
      "Epoch: 85- Training Loss: 0.088125,  Training Accuracy: 95.86%,  Validation Loss: 0.091618,  Validation Accuracy: 95.84%,\n",
      "Epoch: 86- Training Loss: 0.087486,  Training Accuracy: 95.94%,  Validation Loss: 0.091068,  Validation Accuracy: 95.84%,\n",
      "Epoch: 87- Training Loss: 0.086418,  Training Accuracy: 96.12%,  Validation Loss: 0.090956,  Validation Accuracy: 95.84%,\n",
      "Epoch: 88- Training Loss: 0.088379,  Training Accuracy: 95.96%,  Validation Loss: 0.090721,  Validation Accuracy: 96.00%,\n",
      "Epoch: 89- Training Loss: 0.085113,  Training Accuracy: 95.98%,  Validation Loss: 0.090436,  Validation Accuracy: 95.92%,\n",
      "Epoch: 90- Training Loss: 0.088279,  Training Accuracy: 95.96%,  Validation Loss: 0.090464,  Validation Accuracy: 96.00%,\n",
      "Epoch: 91- Training Loss: 0.085539,  Training Accuracy: 96.00%,  Validation Loss: 0.090578,  Validation Accuracy: 95.92%,\n",
      "Epoch: 92- Training Loss: 0.086271,  Training Accuracy: 95.84%,  Validation Loss: 0.090256,  Validation Accuracy: 95.92%,\n",
      "Epoch: 93- Training Loss: 0.085494,  Training Accuracy: 95.92%,  Validation Loss: 0.089927,  Validation Accuracy: 95.96%,\n",
      "Epoch: 94- Training Loss: 0.082779,  Training Accuracy: 96.20%,  Validation Loss: 0.089566,  Validation Accuracy: 95.92%,\n",
      "Epoch: 95- Training Loss: 0.085228,  Training Accuracy: 96.02%,  Validation Loss: 0.089553,  Validation Accuracy: 96.04%,\n",
      "Epoch: 96- Training Loss: 0.083301,  Training Accuracy: 95.86%,  Validation Loss: 0.088901,  Validation Accuracy: 96.04%,\n",
      "Epoch: 97- Training Loss: 0.083468,  Training Accuracy: 96.04%,  Validation Loss: 0.088782,  Validation Accuracy: 96.04%,\n",
      "Epoch: 98- Training Loss: 0.083966,  Training Accuracy: 95.88%,  Validation Loss: 0.088984,  Validation Accuracy: 96.09%,\n",
      "Epoch: 99- Training Loss: 0.082565,  Training Accuracy: 96.14%,  Validation Loss: 0.088752,  Validation Accuracy: 96.04%,\n",
      "Optimization Finished!\n",
      "Saving the model...\n",
      "Computing accuracy on testing data...\n",
      "Final test accuracy: 92.60%\n"
     ]
    }
   ],
   "source": [
    "#Network Parameters\n",
    "num_epochs = 100\n",
    "batch_size = 100\n",
    "\n",
    "with tf.Session(graph=graph) as sess:\n",
    "    global_variables_init.run()\n",
    "    graph.finalize()\n",
    "    \n",
    "    train_loss = []\n",
    "    val_loss = []\n",
    "    train_acc = []\n",
    "    val_acc = []\n",
    "    \n",
    "    for epoch in range(num_epochs):\n",
    "        avg_cost_train = 0.\n",
    "        total_train_batch = int((len(Xtrain)/(batch_size)) + 1)\n",
    "            \n",
    "        miniBatches_train = miniBatch(Xtrain, yTrain, batch_size)\n",
    "\n",
    "        running_vars_initializer_accuracy.run()\n",
    "        for batch in miniBatches_train:\n",
    "            xBatch_train = batch[0]\n",
    "            yBatch_train = batch[1]\n",
    "            \n",
    "            _, miniBatchCost_train, miniBatchAccuracy_train = sess.run([trainer, loss, accuracy_update_op], feed_dict = {X: xBatch_train, y: yBatch_train, keep_prob_: 0.5})\n",
    "            avg_cost_train += miniBatchCost_train / total_train_batch\n",
    "        accuracy_train = sess.run(accuracy)\n",
    "        train_loss.append(avg_cost_train)\n",
    "        train_acc.append(accuracy_train)\n",
    "        \n",
    "        \n",
    "        avg_cost_val = 0.\n",
    "        total_val_batch = int((len(Xval)/(batch_size)) + 1)\n",
    "        miniBatches_val = miniBatch(Xval, yval, batch_size)\n",
    "        running_vars_initializer_accuracy.run()\n",
    "        for batch in miniBatches_val:\n",
    "            xBatch_val = batch[0]\n",
    "            yBatch_val = batch[1]\n",
    "            \n",
    "            miniBatchCost_val, miniBatchAccuracy_val= sess.run([loss, accuracy_update_op], feed_dict = {X: xBatch_val, y: yBatch_val, keep_prob_: 1.0})\n",
    "            avg_cost_val += miniBatchCost_val / total_val_batch\n",
    "        accuracy_val = sess.run(accuracy)\n",
    "        val_loss.append(avg_cost_val)\n",
    "        val_acc.append(accuracy_val)\n",
    "        \n",
    "        \n",
    "        print(\"Epoch: {:d}-\".format(epoch), \\\n",
    "              \"Training Loss: {:.6f}, \".format(avg_cost_train), \\\n",
    "              \"Training Accuracy: {:>.2%}, \".format(accuracy_train), \\\n",
    "              \"Validation Loss: {:.6f}, \".format(avg_cost_val), \\\n",
    "              \"Validation Accuracy: {:>.2%},\".format(accuracy_val))\n",
    "\n",
    "    print(\"Optimization Finished!\")\n",
    "    \n",
    "    print(\"Saving the model...\")\n",
    "    final_model_path = \"./my_deep_model.ckpt\"\n",
    "    saver.save(sess, final_model_path)\n",
    "    \n",
    "        \n",
    "    print(\"Evaluating on testing data...\")\n",
    "    running_vars_initializer_accuracy.run()\n",
    "    predictions_test, _= sess.run([predictions, accuracy_update_op], feed_dict={X:xTest, y: yTest, keep_prob_: 1.0})\n",
    "    accuracy_test = sess.run(accuracy)\n",
    "    print(\"Final test accuracy: {:>.2%}\".format(accuracy_test)) "
   ]
  },
  {
   "cell_type": "code",
   "execution_count": 9,
   "metadata": {},
   "outputs": [
    {
     "data": {
      "image/png": "[encoded data removed]",
      "text/plain": [
       "<Figure size 432x288 with 1 Axes>"
      ]
     },
     "metadata": {},
     "output_type": "display_data"
    }
   ],
   "source": [
    "#Visualize the loss\n",
    "plt.figure(1)\n",
    "plt.plot(train_loss, label='Train Loss')\n",
    "plt.plot(val_loss, label='Validation Loss')\n",
    "plt.xlabel('Epoch')\n",
    "plt.ylabel('Cost')\n",
    "plt.title(\"Loss (Cost Function)\")\n",
    "plt.legend()\n",
    "plt.show()"
   ]
  },
  {
   "cell_type": "code",
   "execution_count": 10,
   "metadata": {},
   "outputs": [
    {
     "data": {
      "image/png": "[encoded data removed]",
      "text/plain": [
       "<Figure size 432x288 with 1 Axes>"
      ]
     },
     "metadata": {},
     "output_type": "display_data"
    }
   ],
   "source": [
    "#Visualize the Accuracy\n",
    "plt.figure(2)\n",
    "plt.plot(train_acc, label='Train Accuracy')\n",
    "plt.plot(val_acc, label='Validation Accuracy')\n",
    "plt.xlabel('Epoch')\n",
    "plt.ylabel('Accuracy')\n",
    "plt.title(\"Accuracy\")\n",
    "plt.legend()\n",
    "plt.show()"
   ]
  },
  {
   "cell_type": "code",
   "execution_count": 12,
   "metadata": {},
   "outputs": [
    {
     "name": "stdout",
     "output_type": "stream",
     "text": [
      "INFO:tensorflow:Restoring parameters from ./my_deep_model.ckpt\n",
      "Model restored.\n",
      "Final test accuracy: 92.60%\n"
     ]
    }
   ],
   "source": [
    "tf.reset_default_graph()\n",
    "\n",
    "with tf.Session() as sess:\n",
    "    new_saver = tf.train.import_meta_graph('my_deep_model.ckpt.meta')\n",
    "    new_saver.restore(sess, tf.train.latest_checkpoint('./'))\n",
    "    print(\"Model restored.\")\n",
    "    \n",
    "    g=tf.get_default_graph()\n",
    "    X = g.get_tensor_by_name('graph_inputs/input_placeholder:0')\n",
    "    y = g.get_tensor_by_name('graph_inputs/output_placeholder:0')\n",
    "\n",
    "    accuracy_update_op = g.get_tensor_by_name('CNN/Accuracy/accuracy/update_op:0')\n",
    "    accuracy = g.get_tensor_by_name('CNN/Accuracy/accuracy/value:0')\n",
    "\n",
    "    tf.local_variables_initializer().run()\n",
    "    _= sess.run([accuracy_update_op], feed_dict={X:xTest, y: yTest})\n",
    "    accuracy_test = sess.run(accuracy)\n",
    "    print(\"Final test accuracy: {:>.2%}\".format(accuracy_test)) "
   ]
  }
 ],
 "metadata": {
  "kernelspec": {
   "display_name": "Python 3",
   "language": "python",
   "name": "python3"
  },
  "language_info": {
   "codemirror_mode": {
    "name": "ipython",
    "version": 3
   },
   "file_extension": ".py",
   "mimetype": "text/x-python",
   "name": "python",
   "nbconvert_exporter": "python",
   "pygments_lexer": "ipython3",
   "version": "3.6.5"
  }
 },
 "nbformat": 4,
 "nbformat_minor": 2
}
